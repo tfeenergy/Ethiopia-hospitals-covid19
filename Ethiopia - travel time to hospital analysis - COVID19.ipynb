{
 "cells": [
  {
   "cell_type": "markdown",
   "metadata": {
    "pycharm": {
     "name": "#%% md\n"
    }
   },
   "source": [asdfasdfasdfasdfsd
    "# Mapping travel times to hospitals in Ethiopia\n",
    "## A country-wide analysis to plan COVID-19 response\n",
    "Forked from the [covid19 repository](https://github.com/datapartnership/covid19) from the Data Partnership. Original code authored by Bruno Sánchez-Andrade Nuño (@brunosan).\n",
    "Adapted by TFE Energy."
   ]
  },
  {
   "cell_type": "code",
   "execution_count": 41,
   "metadata": {},
   "outputs": [],
   "source": [
    "# import modules\n",
    "from preprocessing import get_population_data, split, n_closest_geodetic\n",
    "import numpy as np\n",
    "import rasterio\n",
    "import logging\n",
    "import pandas as pd\n",
    "import matplotlib.pyplot as plt\n",
    "import geopandas as gpd\n",
    "from shapely.geometry import Point\n",
    "from shapely.geometry import box\n",
    "import requests #http framework to make mhvpl requests for routes\n",
    "import json # handle response as json\n",
    "import pickle\n",
    "log = logging.getLogger(__name__)"
   ]
  },
  {
   "cell_type": "markdown",
   "metadata": {},
   "source": [
    "## Pre-process population data"
   ]
  },
  {
   "cell_type": "code",
   "execution_count": 42,
   "metadata": {
    "pycharm": {
     "is_executing": true,
     "name": "#%%\n"
    }
   },
   "outputs": [],
   "source": [
    "CRS ='epsg:4326'\n",
    "LOCATION = 'ethiopia'\n",
    "DATAPATH = 'data/' + LOCATION\n",
    "RAWFILEPATH  = DATAPATH +  '/raw'\n",
    "PROCESSEDFILEPATH = DATAPATH + '/processed'\n",
    "RESULTSFILEPATH = DATAPATH + '/results'\n",
    "\n",
    "# Facebooks HRSL dataset\n",
    "map_file = RAWFILEPATH+\"/population_eth_2018-10-01.tif\""
   ]
  },
  {
   "cell_type": "code",
   "execution_count": 17,
   "metadata": {
    "pycharm": {
     "is_executing": true,
     "name": "#%%\n"
    }
   },
   "outputs": [
    {
     "name": "stdout",
     "output_type": "stream",
     "text": [
      "52000/53824\r"
     ]
    }
   ],
   "source": [
    "#Initial scan the raster map with big windows\n",
    "origins=pd.DataFrame()\n",
    "window=2000\n",
    "\n",
    "with rasterio.open(map_file) as src:\n",
    "    a=src.xy(0,1)\n",
    "    for left_x in np.arange(0,src.width,window):\n",
    "        for top_y in np.arange(0,src.height,window):\n",
    "            out=get_population_data(map_file,left_x,top_y,window,plot=False)\n",
    "            if out != {}:\n",
    "                origins=origins.append([out])\n",
    "        print(\"%i/%i\\r\"%(left_x,src.width),end=\"\")"
   ]
  },
  {
   "cell_type": "code",
   "execution_count": 18,
   "metadata": {
    "pycharm": {
     "is_executing": true,
     "name": "#%%\n"
    }
   },
   "outputs": [
    {
     "name": "stdout",
     "output_type": "stream",
     "text": [
      "348 regions need splitting\n",
      "We now have 1959 regions, 1278 will be split in next round\n"
     ]
    }
   ],
   "source": [
    "#Perform a splitting pass\n",
    "#Run this cell as many times as you want to split the windows\n",
    "print(\"%i regions need splitting\"%len(origins[origins['split']==True]))\n",
    "olen=len(origins)\n",
    "for i in np.arange(olen):\n",
    "    print(\"%i/%i\\r\"%(i+1,olen),end=\"\")\n",
    "    if origins.iloc[i,origins.columns.get_loc('split')] == True:\n",
    "        origins.iloc[i,origins.columns.get_loc('split')]='done'\n",
    "        s=split(map_file,origins.iloc[i])\n",
    "        origins=origins.append(s,sort=False)\n",
    "print(\"We now have %i regions, %i will be split in next round\"%(len(origins),len(origins[origins['split']==True])))"
   ]
  },
  {
   "cell_type": "code",
   "execution_count": 19,
   "metadata": {
    "pycharm": {
     "is_executing": true,
     "name": "#%%\n"
    }
   },
   "outputs": [
    {
     "name": "stdout",
     "output_type": "stream",
     "text": [
      "We have 1278 regions of size 1000, 1278 with population >0\n"
     ]
    }
   ],
   "source": [
    "# Keep the regions with population>1\n",
    "# and filter out the regions which have been split\n",
    "origins=origins[origins['tot_pop']>0]\n",
    "origins=origins[origins['split']!='done']\n",
    "print(\"We have %i regions of size %i, %i with population >0\"%\n",
    "      (len(origins),min(origins['window']),len(origins[origins['tot_pop']>0])))"
   ]
  },
  {
   "cell_type": "code",
   "execution_count": 20,
   "metadata": {
    "pycharm": {
     "is_executing": true,
     "name": "#%%\n"
    }
   },
   "outputs": [],
   "source": [
    "#transform into GeoDataFrame\n",
    "origins = gpd.GeoDataFrame(origins,crs=CRS, geometry=[Point(xy) for xy in zip(origins['center_lon'], origins['center_lat'])])\n",
    "origins.geometry=origins.apply(lambda r: box(r.left_lon, r.bottom_lat, r.right_lon, r.top_lat, ccw=False),axis=1)\n",
    "origins = origins.reset_index(drop=True)"
   ]
  },
  {
   "cell_type": "code",
   "execution_count": 21,
   "metadata": {
    "pycharm": {
     "is_executing": true,
     "name": "#%%\n"
    }
   },
   "outputs": [
    {
     "data": {
      "text/plain": [
       "<matplotlib.axes._subplots.AxesSubplot at 0x11c984910>"
      ]
     },
     "execution_count": 21,
     "metadata": {},
     "output_type": "execute_result"
    },
    {
     "data": {
      "image/png": "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\n",
      "text/plain": [
       "<Figure size 432x288 with 1 Axes>"
      ]
     },
     "metadata": {
      "needs_background": "light"
     },
     "output_type": "display_data"
    }
   ],
   "source": [
    "origins.plot()"
   ]
  },
  {
   "cell_type": "code",
   "execution_count": 24,
   "metadata": {
    "pycharm": {
     "is_executing": true,
     "name": "#%%\n"
    }
   },
   "outputs": [
    {
     "name": "stderr",
     "output_type": "stream",
     "text": [
      "ERROR:fiona._env:data/ethiopia/processed/origins_1278.geojson: No such file or directory\n",
      "WARNING:fiona._env:driver GeoJSON does not support creation option ENCODING\n"
     ]
    }
   ],
   "source": [
    "# save shapefile\n",
    "origins.to_file(driver = 'GeoJSON', filename= PROCESSEDFILEPATH+'/origins_'+str(len(origins))+'.geojson')\n",
    "origins.to_file(driver = 'ESRI Shapefile', filename = PROCESSEDFILEPATH+'/origins_'+str(len(origins))+'.shp')"
   ]
  },
  {
   "cell_type": "markdown",
   "metadata": {},
   "source": [
    "## Import hospital locations"
   ]
  },
  {
   "cell_type": "code",
   "execution_count": 32,
   "metadata": {
    "pycharm": {
     "is_executing": true,
     "name": "#%%\n"
    }
   },
   "outputs": [
    {
     "name": "stdout",
     "output_type": "stream",
     "text": [
      "There are 5168 hospitals\n"
     ]
    }
   ],
   "source": [
    "#hospital_path = RAWFILEPATH+\"/ethiopia_hospitals.shp\"\n",
    "hospital_path = RAWFILEPATH +\"/ethiopia_health_centers.shp\"\n",
    "df = gpd.read_file(hospital_path).to_crs(CRS)\n",
    "df['lon']=df.geometry.centroid.x\n",
    "df['lat']=df.geometry.centroid.y\n",
    "df['name']=df['Facility n']\n",
    "hospitals=df[['name','lon','lat','geometry']]\n",
    "print(\"There are %i hospitals\"%len(hospitals))\n",
    "hospitals = hospitals.reset_index(drop=True)"
   ]
  },
  {
   "cell_type": "code",
   "execution_count": 33,
   "metadata": {
    "pycharm": {
     "is_executing": true,
     "name": "#%%\n"
    }
   },
   "outputs": [],
   "source": [
    "# save pre-processed hospital and population data\n",
    "with open(PROCESSEDFILEPATH+'/'+LOCATION+'_'+str(len(origins))+'-healthcenter-o.pickle', 'wb') as handle:\n",
    "    pickle.dump([hospitals,origins], handle, protocol=pickle.HIGHEST_PROTOCOL)"
   ]
  },
  {
   "cell_type": "markdown",
   "metadata": {},
   "source": [
    "## Calculate travel time from each region to the nearest hospital"
   ]
  },
  {
   "cell_type": "code",
   "execution_count": 34,
   "metadata": {
    "pycharm": {
     "is_executing": true,
     "name": "#%%\n"
    }
   },
   "outputs": [],
   "source": [
    "# LOAD pre-processed hospital and population data (if already available)\n",
    "FILENAME = 'ethiopia_49911-h-o.pickle'\n",
    "with open(PROCESSEDFILEPATH+'/'+FILENAME, 'rb') as handle:\n",
    "    hospitals,origins = pickle.load(handle)"
   ]
  },
  {
   "cell_type": "code",
   "execution_count": 36,
   "metadata": {
    "pycharm": {
     "is_executing": true,
     "name": "#%%\n"
    }
   },
   "outputs": [
    {
     "name": "stdout",
     "output_type": "stream",
     "text": [
      "Processing batch 647, [6470,6480] of 49911\r"
     ]
    },
    {
     "name": "stderr",
     "output_type": "stream",
     "text": [
      "WARNING:root:Batch 648 processing failed. Check if OSM data covers area.\n"
     ]
    },
    {
     "name": "stdout",
     "output_type": "stream",
     "text": [
      "Processing batch 4703, [47030,47040] of 49911\r"
     ]
    },
    {
     "name": "stderr",
     "output_type": "stream",
     "text": [
      "WARNING:root:Batch 4705 processing failed. Check if OSM data covers area.\n",
      "WARNING:root:Batch 4706 processing failed. Check if OSM data covers area.\n"
     ]
    },
    {
     "name": "stdout",
     "output_type": "stream",
     "text": [
      "Processing batch 4704, [47040,47050] of 49911\r",
      "Processing batch 4705, [47050,47060] of 49911\r",
      "Processing batch 4706, [47060,47070] of 49911\r",
      "Processing batch 4707, [47070,47080] of 49911\r"
     ]
    },
    {
     "name": "stderr",
     "output_type": "stream",
     "text": [
      "WARNING:root:Batch 4708 processing failed. Check if OSM data covers area.\n",
      "WARNING:root:Batch 4709 processing failed. Check if OSM data covers area.\n"
     ]
    },
    {
     "name": "stdout",
     "output_type": "stream",
     "text": [
      "Processing batch 4991, [49910,49920] of 49911\r"
     ]
    }
   ],
   "source": [
    "# prepare hospital locations to be fed into the OSRM engine as strings\n",
    "hospitals_loc=\";\".join([str(i[1])+','+str(i[0]) for i in hospitals[['lat','lon']].values])\n",
    "\n",
    "# osrm server address\n",
    "osrm_server=\"http://0.0.0.0:5000\"\n",
    "server=osrm_server+\"/table/v1/driving/\"\n",
    "comma=\"%2C\"\n",
    "Sep=\"%3B\"\n",
    "\n",
    "batch=10\n",
    "usual_origin='hospital'\n",
    "\n",
    "buffer=10/60.  #10 minutes, in hours\n",
    "overalpenalty=1.05  #5%\n",
    "\n",
    "# create a new column in the Geodataframe for the time and initialize with -1\n",
    "origins['t_'+usual_origin]=-1\n",
    "origins['m_'+usual_origin]=-1\n",
    "\n",
    "for i in np.arange(origins.shape[0]/batch):\n",
    "    print(\"Processing batch %i, [%i,%i] of %i\"\n",
    "          %(i,batch*i,batch*(i+1),origins.shape[0]),end=\"\\r\")\n",
    "    origins_batch=origins.iloc[int(batch*i):].head(n=batch)\n",
    "\n",
    "    destinations=\";\".join([str(i[1])+','+str(i[0]) for i in origins_batch[['center_lat','center_lon']].values])\n",
    "    destinations_number=origins_batch.index\n",
    "\n",
    "    trail=\".json?destinations=\"+\\\n",
    "    ';'.join([str(x) for x in np.arange(len(hospitals))])+\\\n",
    "    \"&sources=\"+\\\n",
    "    ';'.join([str(x) for x in np.arange(len(hospitals),len(hospitals)+len(origins_batch))])\n",
    "        \n",
    "    fullurl= server+hospitals_loc+\";\"+destinations+trail\n",
    "    counter= 0\n",
    "    response = requests.get(fullurl)\n",
    "    try:\n",
    "        response.raise_for_status()\n",
    "        durations_matrix=json.loads(response.text)['durations']\n",
    "        durations=[]\n",
    "        hospital_min=[]\n",
    "        for origin in np.arange(np.shape(durations_matrix)[0]):\n",
    "            durations+=[min(durations_matrix[origin])]\n",
    "            hospital_min+=[np.argmin(durations_matrix[origin])]\n",
    "        for j in np.arange(len(durations)):\n",
    "            origins.loc[[destinations_number[j]], ['t_'+usual_origin]]=buffer+durations[j]/60./60.*overalpenalty\n",
    "            origins.loc[[destinations_number[j]], ['m_'+usual_origin]]=hospital_min[j]\n",
    "    except:\n",
    "        logging.warning('Batch '+str(int(i))+' processing failed. Check if OSM data covers area.')\n",
    "        continue"
   ]
  },
  {
   "cell_type": "code",
   "execution_count": 37,
   "metadata": {
    "pycharm": {
     "is_executing": true,
     "name": "#%%\n"
    }
   },
   "outputs": [],
   "source": [
    "# Save files\n",
    "origins.to_file(RESULTSFILEPATH+'/origins_'+str(len(origins))+'_results_health_centers.geojson', driver='GeoJSON')\n",
    "origins.to_file(RESULTSFILEPATH+'/origins_'+str(len(origins))+'_results_health_centers.shp', driver='ESRI Shapefile')\n",
    "with open(RESULTSFILEPATH+'/'+LOCATION+'_'+str(len(origins))+'-results_health_centers.pickle', 'wb') as handle:\n",
    "    pickle.dump([hospitals,origins], handle, protocol=pickle.HIGHEST_PROTOCOL)"
   ]
  },
  {
   "cell_type": "code",
   "execution_count": 38,
   "metadata": {
    "pycharm": {
     "is_executing": true,
     "name": "#%%\n"
    }
   },
   "outputs": [
    {
     "data": {
      "image/png": "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\n",
      "text/plain": [
       "<Figure size 432x288 with 1 Axes>"
      ]
     },
     "metadata": {
      "needs_background": "light"
     },
     "output_type": "display_data"
    }
   ],
   "source": [
    "# Plot results\n",
    "%matplotlib inline\n",
    "plt.figure()\n",
    "origins['t_'+usual_origin].plot.hist(alpha=0.5,bins=500,cumulative=False,density=True)\n",
    "plt.ylabel('% of total population')\n",
    "plt.xlabel('Travel time to nearest health center [h]')\n",
    "plt.savefig(RESULTSFILEPATH+'/travel_time_dist.pdf')\n",
    "plt.show()"
   ]
  },
  {
   "cell_type": "code",
   "execution_count": 39,
   "metadata": {
    "pycharm": {
     "is_executing": true,
     "name": "#%%\n"
    }
   },
   "outputs": [
    {
     "data": {
      "image/png": "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\n",
      "text/plain": [
       "<Figure size 432x288 with 1 Axes>"
      ]
     },
     "metadata": {
      "needs_background": "light"
     },
     "output_type": "display_data"
    }
   ],
   "source": [
    "plt.figure()\n",
    "origins['t_'+usual_origin].plot.hist(alpha=0.5,bins=500,cumulative=True,density=True,weights=origins['tot_pop'])\n",
    "plt.ylabel('% of population')\n",
    "plt.xlabel('Travel time to nearest '+usual_origin+' [hours]')\n",
    "plt.savefig(RESULTSFILEPATH+'/travel_time_percentage')\n",
    "plt.show()"
   ]
  },
  {
   "cell_type": "code",
   "execution_count": null,
   "metadata": {},
   "outputs": [],
   "source": []
  }
 ],
 "metadata": {
  "kernelspec": {
   "display_name": "PyCharm (covid19)",
   "language": "python",
   "name": "pycharm-83803e52"
  },
  "language_info": {
   "codemirror_mode": {
    "name": "ipython",
    "version": 3
   },
   "file_extension": ".py",
   "mimetype": "text/x-python",
   "name": "python",
   "nbconvert_exporter": "python",
   "pygments_lexer": "ipython3",
   "version": "3.8.2"
  }
 },
 "nbformat": 4,
 "nbformat_minor": 1
}
